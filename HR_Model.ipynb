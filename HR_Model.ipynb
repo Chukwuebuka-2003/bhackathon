{
 "cells": [
  {
   "cell_type": "code",
   "execution_count": null,
   "id": "c8b3f4b1-2220-4bdc-bd44-86aa8dd0e95e",
   "metadata": {
    "tags": []
   },
   "outputs": [],
   "source": [
    "import pandas as pd\n",
    "import seaborn as sns\n",
    "import numpy as np\n",
    "import matplotlib.pyplot as plt\n",
    "\n",
    "from sklearn.model_selection import train_test_split\n",
    "from sklearn.preprocessing import StandardScaler,MinMaxScaler,FunctionTransformer,OneHotEncoder\n",
    "from sklearn.pipeline import make_pipeline,Pipeline\n",
    "from sklearn.compose import ColumnTransformer,make_column_selector\n",
    "\n",
    "\n",
    "import tensorflow as tf\n",
    "from tensorflow import keras\n",
    "from tensorflow.keras import layers\n",
    "from sklearn import svm\n",
    "\n",
    "from sklearn.metrics import plot_confusion_matrix\n",
    "from sklearn.metrics import roc_auc_score\n",
    "from imblearn.over_sampling import SMOTE\n",
    "\n",
    "\n",
    "from sklearn.linear_model import RidgeClassifier,RidgeClassifierCV,LogisticRegressionCV\n",
    "from xgboost import XGBClassifier"
   ]
  },
  {
   "cell_type": "code",
   "execution_count": 2,
   "id": "50f69788-59de-441e-a166-251011adc1d5",
   "metadata": {},
   "outputs": [],
   "source": [
    "train_data = pd.read_csv('train.csv',index_col='id')\n",
    "test_data = pd.read_csv('test.csv',index_col='id')\n",
    "sample_data = pd.read_csv('sample_submission.csv')\n",
    "original_data = pd.read_csv('original.csv')\n",
    "\n",
    "train_data_copy = train_data.copy()"
   ]
  },
  {
   "cell_type": "code",
   "execution_count": 3,
   "id": "9411068b-faaa-4f28-8b4f-b88df0bf02a2",
   "metadata": {},
   "outputs": [],
   "source": [
    "# train_data[train_data['YearsAtCompany']>40]\n",
    "# train_data[train_data['TotalWorkingYears']>40]\n",
    "# train_data[train_data['JobLevel'] >5]"
   ]
  },
  {
   "cell_type": "code",
   "execution_count": 4,
   "id": "d4bdd930-2fda-4dd1-b629-6ee3e695d2ab",
   "metadata": {},
   "outputs": [],
   "source": [
    "# train_data.drop(train_data[train_data['JobLevel'] >5].index,axis=0,inplace=True)\n",
    "# train_data.drop(train_data[].index,axis=0,inplace=True)\n",
    "# train_data.drop(train_data[train_data['YearsAtCompany']>40].index,axis=0,inplace=True)\n",
    "# train_data.drop(train_data[train_data.Education == 15].index,axis=0,inplace=True)\n",
    "\n",
    "\n",
    "# index = train_data[train_data['JobLevel'] >5index\n",
    "# train_data.loc[index,'JobLevel'] = 5\n",
    "\n",
    "# index = train_data[train_data['TotalWorkingYears']>40].index\n",
    "# train_data.loc[index,'TotalWorkingYears'] = 40\n",
    "                  \n",
    "# index = train_data[train_data['YearsAtCompany']>40].index\n",
    "# train_data.loc[index,'YearsAtCompany'] = 40\n",
    "\n",
    "# index = train_data[train_data.Education == 15].index\n",
    "# train_data.loc[index,'Education'] = 5"
   ]
  },
  {
   "cell_type": "code",
   "execution_count": null,
   "id": "f1c9be2e-b186-4804-8c06-a7ab923d0834",
   "metadata": {},
   "outputs": [],
   "source": []
  },
  {
   "cell_type": "code",
   "execution_count": null,
   "id": "0d089e6f-0c1f-4601-bb48-3b312dffee83",
   "metadata": {},
   "outputs": [],
   "source": []
  },
  {
   "cell_type": "code",
   "execution_count": null,
   "id": "54f9d07f-028d-4c6f-aae5-8fba1b798af4",
   "metadata": {},
   "outputs": [],
   "source": []
  },
  {
   "cell_type": "code",
   "execution_count": null,
   "id": "1e8a6caa-6e32-4f9c-a619-50f7ac8e6173",
   "metadata": {},
   "outputs": [],
   "source": []
  },
  {
   "cell_type": "code",
   "execution_count": null,
   "id": "1fae057b-c2af-40e1-b1a7-c5882e9e5e4f",
   "metadata": {},
   "outputs": [],
   "source": []
  },
  {
   "cell_type": "code",
   "execution_count": 5,
   "id": "0ed45287-418b-4c32-bd12-d1796b71746e",
   "metadata": {},
   "outputs": [],
   "source": [
    "original_data_copy = original_data.copy()\n",
    "original_data_copy['Attrition'] = np.where(original_data_copy['Attrition'] == 'Yes',1,0)\n",
    "original_data_copy.drop(['EmployeeNumber'],axis=1,inplace=True)\n",
    "\n",
    "# positives = original_data_copy[original_data_copy['Attrition'] == 1]\n",
    "\n",
    "# train_data = pd.concat([train_data,positives])\n",
    "train_data = pd.concat([train_data,original_data_copy])"
   ]
  },
  {
   "cell_type": "code",
   "execution_count": 6,
   "id": "9da3f4d0-653b-407e-9067-e711bcf38708",
   "metadata": {},
   "outputs": [],
   "source": [
    "train_data.drop(['EmployeeCount','StandardHours','Over18'],axis=1,inplace=True)\n",
    "test_data.drop(['EmployeeCount','StandardHours','Over18'],axis=1,inplace=True)"
   ]
  },
  {
   "cell_type": "code",
   "execution_count": 7,
   "id": "da18c5db-6072-4752-a75e-e6657078398a",
   "metadata": {},
   "outputs": [],
   "source": [
    "# index = train_data[(train_data['EducationField'] == 'Other')&(train_data['JobRole'] == 'Sales Representative')].index\n",
    "# train_data.drop(index,axis=0,inplace=True)"
   ]
  },
  {
   "cell_type": "code",
   "execution_count": 8,
   "id": "c2a19593-0704-412d-ba24-93e2ab4b325d",
   "metadata": {},
   "outputs": [],
   "source": [
    "def create_features(data):\n",
    "    df = data.copy()\n",
    "    df['BusinessTravel'] = np.select([df['BusinessTravel'] == 'Non-Travel', \n",
    "                                          df['BusinessTravel'] == 'Travel_Rarely',\n",
    "                                          df['BusinessTravel'] == 'Travel_Frequently'],\n",
    "                                         [1,2,3]\n",
    "                                        )\n",
    "    # ['Education','JobRole']\n",
    "    # df['education_jobrole'] = df['EducationField'] + df['JobRole']\n",
    "    alpha = .000001\n",
    "    int_col = df.select_dtypes(include = np.number).columns\n",
    "    df[int_col] = df[int_col] + alpha\n",
    "    df['income_joblevel'] = df['JobLevel'] / df['MonthlyIncome'] \n",
    "    df['progress'] = df['YearsAtCompany']  / df['YearsInCurrentRole'] \n",
    "    df['Age'] = pd.cut(df.Age,bins=3,labels=[1,2,3]).astype(int)\n",
    "    # df['Age'] = pd.cut(df.Age,bins=2,labels=[1,2]).astype(int)\n",
    "    \n",
    "    df['avg_earn'] = df.groupby(['Education','Age'])['MonthlyIncome'].transform('mean')\n",
    "    df['earn_sat'] = (df.MonthlyIncome / df.HourlyRate ) - df['avg_earn'] \n",
    "    # df.drop(['avg_earn'],axis=1,inplace=True)\n",
    "\n",
    "    df['balance'] = df.WorkLifeBalance / df.RelationshipSatisfaction\n",
    "    df['comfort'] = df['balance'] * df['BusinessTravel']\n",
    "    # df['over_time_distance'] = df['DistanceFromHome'] / df['OverTime'] \n",
    "    df['comfort_2'] =  ((df['balance'] * (df['JobSatisfaction']) / df['EnvironmentSatisfaction']))\n",
    "    # df['comfort_3'] = (df['comfort'] * df['Age'])/  df['overTime']\n",
    "    \n",
    "    \n",
    "    df['fairness_1']  = (df['JobInvolvement'] / df['JobLevel']) * (df['PercentSalaryHike'] / df['PerformanceRating']) \n",
    "    df['fairness_2']  =   df['YearsSinceLastPromotion'] /(df['YearsAtCompany'] * df['JobSatisfaction']) \n",
    "    df['fairness_3']  =  (df['TotalWorkingYears'] / (df['YearsAtCompany']) * df['JobSatisfaction']) \n",
    "    df['fairness'] = ((df['fairness_1'] + df['fairness_2'] + df['fairness_3'])/3) * df['StockOptionLevel'] * df['BusinessTravel']\n",
    "    # df['fairness_'] = ((df['fairness_1'] + df['fairness_2'] + df['fairness_3'])/3) / (df['StockOptionLevel'] * df['BusinessTravel'] / df['Age'] )\n",
    "    \n",
    "    \n",
    "    int_col = df.select_dtypes(include = np.number).columns\n",
    "    df[int_col] = df[int_col] - alpha\n",
    "    df.drop(['balance','avg_earn','EducationField','JobRole'],axis=1,inplace=True)\n",
    "\n",
    "    return df"
   ]
  },
  {
   "cell_type": "code",
   "execution_count": 9,
   "id": "93f88eec-9be7-423e-b031-5d55fa7024e6",
   "metadata": {},
   "outputs": [
    {
     "data": {
      "text/html": [
       "<div>\n",
       "<style scoped>\n",
       "    .dataframe tbody tr th:only-of-type {\n",
       "        vertical-align: middle;\n",
       "    }\n",
       "\n",
       "    .dataframe tbody tr th {\n",
       "        vertical-align: top;\n",
       "    }\n",
       "\n",
       "    .dataframe thead th {\n",
       "        text-align: right;\n",
       "    }\n",
       "</style>\n",
       "<table border=\"1\" class=\"dataframe\">\n",
       "  <thead>\n",
       "    <tr style=\"text-align: right;\">\n",
       "      <th></th>\n",
       "      <th>Age</th>\n",
       "      <th>BusinessTravel</th>\n",
       "      <th>DailyRate</th>\n",
       "      <th>Department</th>\n",
       "      <th>DistanceFromHome</th>\n",
       "      <th>Education</th>\n",
       "      <th>EducationField</th>\n",
       "      <th>EnvironmentSatisfaction</th>\n",
       "      <th>Gender</th>\n",
       "      <th>HourlyRate</th>\n",
       "      <th>...</th>\n",
       "      <th>RelationshipSatisfaction</th>\n",
       "      <th>StockOptionLevel</th>\n",
       "      <th>TotalWorkingYears</th>\n",
       "      <th>TrainingTimesLastYear</th>\n",
       "      <th>WorkLifeBalance</th>\n",
       "      <th>YearsAtCompany</th>\n",
       "      <th>YearsInCurrentRole</th>\n",
       "      <th>YearsSinceLastPromotion</th>\n",
       "      <th>YearsWithCurrManager</th>\n",
       "      <th>Attrition</th>\n",
       "    </tr>\n",
       "  </thead>\n",
       "  <tbody>\n",
       "    <tr>\n",
       "      <th>1535</th>\n",
       "      <td>30</td>\n",
       "      <td>Travel_Rarely</td>\n",
       "      <td>583</td>\n",
       "      <td>Research &amp; Development</td>\n",
       "      <td>6</td>\n",
       "      <td>3</td>\n",
       "      <td>Life Sciences</td>\n",
       "      <td>4</td>\n",
       "      <td>Female</td>\n",
       "      <td>100</td>\n",
       "      <td>...</td>\n",
       "      <td>4</td>\n",
       "      <td>0</td>\n",
       "      <td>12</td>\n",
       "      <td>1</td>\n",
       "      <td>2</td>\n",
       "      <td>8</td>\n",
       "      <td>7</td>\n",
       "      <td>1</td>\n",
       "      <td>5</td>\n",
       "      <td>0</td>\n",
       "    </tr>\n",
       "  </tbody>\n",
       "</table>\n",
       "<p>1 rows × 31 columns</p>\n",
       "</div>"
      ],
      "text/plain": [
       "      Age BusinessTravel  DailyRate              Department  DistanceFromHome  \\\n",
       "1535   30  Travel_Rarely        583  Research & Development                 6   \n",
       "\n",
       "      Education EducationField  EnvironmentSatisfaction  Gender  HourlyRate  \\\n",
       "1535          3  Life Sciences                        4  Female         100   \n",
       "\n",
       "      ...  RelationshipSatisfaction  StockOptionLevel TotalWorkingYears  \\\n",
       "1535  ...                         4                 0                12   \n",
       "\n",
       "      TrainingTimesLastYear WorkLifeBalance  YearsAtCompany  \\\n",
       "1535                      1               2               8   \n",
       "\n",
       "      YearsInCurrentRole  YearsSinceLastPromotion YearsWithCurrManager  \\\n",
       "1535                   7                        1                    5   \n",
       "\n",
       "      Attrition  \n",
       "1535          0  \n",
       "\n",
       "[1 rows x 31 columns]"
      ]
     },
     "execution_count": 9,
     "metadata": {},
     "output_type": "execute_result"
    }
   ],
   "source": [
    "train_data[train_data['JobLevel'] >5]"
   ]
  },
  {
   "cell_type": "code",
   "execution_count": 10,
   "id": "08e5cb82-fa3e-4014-85cd-d6fdc96195f3",
   "metadata": {},
   "outputs": [
    {
     "data": {
      "text/plain": [
       "(3147, 31)"
      ]
     },
     "execution_count": 10,
     "metadata": {},
     "output_type": "execute_result"
    }
   ],
   "source": [
    "train_data.shape"
   ]
  },
  {
   "cell_type": "code",
   "execution_count": 11,
   "id": "e8ae06cf-195f-4ab8-845f-cd75f9867d96",
   "metadata": {},
   "outputs": [
    {
     "name": "stdout",
     "output_type": "stream",
     "text": [
      "(3147, 37) (1119, 37)\n"
     ]
    }
   ],
   "source": [
    "train_data_x = create_features(train_data.drop('Attrition',axis=1))\n",
    "test_data = create_features(test_data)\n",
    "\n",
    "print(train_data_x.shape,test_data.shape)\n",
    "train_data_x['Attrition'] = train_data['Attrition']\n",
    "\n",
    "train_data = train_data_x"
   ]
  },
  {
   "cell_type": "code",
   "execution_count": 12,
   "id": "8a4c6ae2-d2b8-41af-a550-9ef1b5a09f8f",
   "metadata": {},
   "outputs": [
    {
     "data": {
      "image/png": "[encoded data removed]",
      "text/plain": [
       "<Figure size 1500x700 with 2 Axes>"
      ]
     },
     "metadata": {},
     "output_type": "display_data"
    }
   ],
   "source": [
    "data = train_data[['Attrition','income_joblevel','progress','Age',\n",
    "                   'earn_sat','comfort','comfort_2','fairness_1',\n",
    "                    'fairness_2','fairness_3','fairness',\n",
    "                       # 'fairness_'\n",
    "                   # 'comfort_3',\n",
    "                  ]]\n",
    "\n",
    "plt.figure(figsize=(15,7));\n",
    "sns.heatmap(data.corr(),annot=True,cmap='viridis');"
   ]
  },
  {
   "cell_type": "code",
   "execution_count": null,
   "id": "17e7233f-02b7-4740-8dab-bb6e3ac25a8c",
   "metadata": {},
   "outputs": [],
   "source": []
  },
  {
   "cell_type": "code",
   "execution_count": null,
   "id": "bd6eec11-6189-496e-b8a9-8abc83b24c07",
   "metadata": {},
   "outputs": [],
   "source": []
  },
  {
   "cell_type": "code",
   "execution_count": null,
   "id": "c32abf49-c324-409a-9f7b-f89a13f9da4a",
   "metadata": {},
   "outputs": [],
   "source": []
  },
  {
   "cell_type": "code",
   "execution_count": null,
   "id": "9f1b39f0-d859-4e4e-ae6e-00352057c613",
   "metadata": {},
   "outputs": [],
   "source": []
  },
  {
   "cell_type": "code",
   "execution_count": 13,
   "id": "492b3257-7c0a-4d69-b413-04e4779aed0b",
   "metadata": {},
   "outputs": [
    {
     "data": {
      "text/plain": [
       "(3147, 38)"
      ]
     },
     "execution_count": 13,
     "metadata": {},
     "output_type": "execute_result"
    }
   ],
   "source": [
    "train_data.shape"
   ]
  },
  {
   "cell_type": "code",
   "execution_count": 14,
   "id": "5603f549-168b-49b2-a1ae-f0031fb4984a",
   "metadata": {},
   "outputs": [
    {
     "data": {
      "text/plain": [
       "0    2710\n",
       "1     437\n",
       "Name: Attrition, dtype: int64"
      ]
     },
     "execution_count": 14,
     "metadata": {},
     "output_type": "execute_result"
    }
   ],
   "source": [
    "train_data[\"Attrition\"].value_counts()"
   ]
  },
  {
   "cell_type": "code",
   "execution_count": 15,
   "id": "87f2eb97-2105-49d2-8b76-78fa6c7a22c4",
   "metadata": {},
   "outputs": [],
   "source": [
    "# train_data.nunique()"
   ]
  },
  {
   "cell_type": "code",
   "execution_count": 16,
   "id": "dabce74a-fbbf-44b3-af7a-42b6d33d4800",
   "metadata": {},
   "outputs": [],
   "source": [
    "# train_data[(train_data['EducationField'] == 'Other')&(train_data['JobRole'] == 'Sales Representative')]"
   ]
  },
  {
   "cell_type": "code",
   "execution_count": 17,
   "id": "60b7fbbe-6888-4294-9b96-e1aaa8dd691f",
   "metadata": {},
   "outputs": [
    {
     "data": {
      "text/html": [
       "<div>\n",
       "<style scoped>\n",
       "    .dataframe tbody tr th:only-of-type {\n",
       "        vertical-align: middle;\n",
       "    }\n",
       "\n",
       "    .dataframe tbody tr th {\n",
       "        vertical-align: top;\n",
       "    }\n",
       "\n",
       "    .dataframe thead th {\n",
       "        text-align: right;\n",
       "    }\n",
       "</style>\n",
       "<table border=\"1\" class=\"dataframe\">\n",
       "  <thead>\n",
       "    <tr style=\"text-align: right;\">\n",
       "      <th></th>\n",
       "      <th>Age</th>\n",
       "      <th>BusinessTravel</th>\n",
       "      <th>DailyRate</th>\n",
       "      <th>Department</th>\n",
       "      <th>DistanceFromHome</th>\n",
       "      <th>Education</th>\n",
       "      <th>EnvironmentSatisfaction</th>\n",
       "      <th>Gender</th>\n",
       "      <th>HourlyRate</th>\n",
       "      <th>JobInvolvement</th>\n",
       "      <th>...</th>\n",
       "      <th>income_joblevel</th>\n",
       "      <th>progress</th>\n",
       "      <th>earn_sat</th>\n",
       "      <th>comfort</th>\n",
       "      <th>comfort_2</th>\n",
       "      <th>fairness_1</th>\n",
       "      <th>fairness_2</th>\n",
       "      <th>fairness_3</th>\n",
       "      <th>fairness</th>\n",
       "      <th>Attrition</th>\n",
       "    </tr>\n",
       "  </thead>\n",
       "  <tbody>\n",
       "    <tr>\n",
       "      <th>1535</th>\n",
       "      <td>0.999999</td>\n",
       "      <td>2.0</td>\n",
       "      <td>583.0</td>\n",
       "      <td>Research &amp; Development</td>\n",
       "      <td>6.0</td>\n",
       "      <td>3.0</td>\n",
       "      <td>4.0</td>\n",
       "      <td>Female</td>\n",
       "      <td>100.0</td>\n",
       "      <td>3.0</td>\n",
       "      <td>...</td>\n",
       "      <td>0.001313</td>\n",
       "      <td>1.142856</td>\n",
       "      <td>-4008.735913</td>\n",
       "      <td>1.0</td>\n",
       "      <td>0.374999</td>\n",
       "      <td>1.857142</td>\n",
       "      <td>0.041666</td>\n",
       "      <td>4.5</td>\n",
       "      <td>0.000003</td>\n",
       "      <td>0</td>\n",
       "    </tr>\n",
       "  </tbody>\n",
       "</table>\n",
       "<p>1 rows × 38 columns</p>\n",
       "</div>"
      ],
      "text/plain": [
       "           Age  BusinessTravel  DailyRate              Department  \\\n",
       "1535  0.999999             2.0      583.0  Research & Development   \n",
       "\n",
       "      DistanceFromHome  Education  EnvironmentSatisfaction  Gender  \\\n",
       "1535               6.0        3.0                      4.0  Female   \n",
       "\n",
       "      HourlyRate  JobInvolvement  ...  income_joblevel  progress     earn_sat  \\\n",
       "1535       100.0             3.0  ...         0.001313  1.142856 -4008.735913   \n",
       "\n",
       "      comfort  comfort_2  fairness_1 fairness_2  fairness_3  fairness  \\\n",
       "1535      1.0   0.374999    1.857142   0.041666         4.5  0.000003   \n",
       "\n",
       "      Attrition  \n",
       "1535          0  \n",
       "\n",
       "[1 rows x 38 columns]"
      ]
     },
     "execution_count": 17,
     "metadata": {},
     "output_type": "execute_result"
    }
   ],
   "source": [
    "index = train_data[train_data['JobLevel'] >5].index\n",
    "# train_data.loc[index,'JobLevel'] = 5\n",
    "train_data.loc[index]\n"
   ]
  },
  {
   "cell_type": "code",
   "execution_count": 18,
   "id": "39621806-2f45-4dbd-96f4-556418318179",
   "metadata": {},
   "outputs": [
    {
     "data": {
      "text/html": [
       "<div>\n",
       "<style scoped>\n",
       "    .dataframe tbody tr th:only-of-type {\n",
       "        vertical-align: middle;\n",
       "    }\n",
       "\n",
       "    .dataframe tbody tr th {\n",
       "        vertical-align: top;\n",
       "    }\n",
       "\n",
       "    .dataframe thead th {\n",
       "        text-align: right;\n",
       "    }\n",
       "</style>\n",
       "<table border=\"1\" class=\"dataframe\">\n",
       "  <thead>\n",
       "    <tr style=\"text-align: right;\">\n",
       "      <th></th>\n",
       "      <th>Age</th>\n",
       "      <th>BusinessTravel</th>\n",
       "      <th>DailyRate</th>\n",
       "      <th>Department</th>\n",
       "      <th>DistanceFromHome</th>\n",
       "      <th>Education</th>\n",
       "      <th>EnvironmentSatisfaction</th>\n",
       "      <th>Gender</th>\n",
       "      <th>HourlyRate</th>\n",
       "      <th>JobInvolvement</th>\n",
       "      <th>...</th>\n",
       "      <th>income_joblevel</th>\n",
       "      <th>progress</th>\n",
       "      <th>earn_sat</th>\n",
       "      <th>comfort</th>\n",
       "      <th>comfort_2</th>\n",
       "      <th>fairness_1</th>\n",
       "      <th>fairness_2</th>\n",
       "      <th>fairness_3</th>\n",
       "      <th>fairness</th>\n",
       "      <th>Attrition</th>\n",
       "    </tr>\n",
       "  </thead>\n",
       "  <tbody>\n",
       "    <tr>\n",
       "      <th>877</th>\n",
       "      <td>1.999999</td>\n",
       "      <td>2.0</td>\n",
       "      <td>682.0</td>\n",
       "      <td>Research &amp; Development</td>\n",
       "      <td>1.0</td>\n",
       "      <td>4.0</td>\n",
       "      <td>4.0</td>\n",
       "      <td>Male</td>\n",
       "      <td>57.0</td>\n",
       "      <td>4.0</td>\n",
       "      <td>...</td>\n",
       "      <td>0.000402</td>\n",
       "      <td>5.124998</td>\n",
       "      <td>-6414.489271</td>\n",
       "      <td>1.5</td>\n",
       "      <td>0.562499</td>\n",
       "      <td>4.888886</td>\n",
       "      <td>0.09756</td>\n",
       "      <td>3.0</td>\n",
       "      <td>5.324306</td>\n",
       "      <td>0</td>\n",
       "    </tr>\n",
       "  </tbody>\n",
       "</table>\n",
       "<p>1 rows × 38 columns</p>\n",
       "</div>"
      ],
      "text/plain": [
       "          Age  BusinessTravel  DailyRate              Department  \\\n",
       "877  1.999999             2.0      682.0  Research & Development   \n",
       "\n",
       "     DistanceFromHome  Education  EnvironmentSatisfaction Gender  HourlyRate  \\\n",
       "877               1.0        4.0                      4.0   Male        57.0   \n",
       "\n",
       "     JobInvolvement  ...  income_joblevel  progress     earn_sat  comfort  \\\n",
       "877             4.0  ...         0.000402  5.124998 -6414.489271      1.5   \n",
       "\n",
       "     comfort_2  fairness_1 fairness_2  fairness_3  fairness  Attrition  \n",
       "877   0.562499    4.888886    0.09756         3.0  5.324306          0  \n",
       "\n",
       "[1 rows x 38 columns]"
      ]
     },
     "execution_count": 18,
     "metadata": {},
     "output_type": "execute_result"
    }
   ],
   "source": [
    "index = train_data[train_data['TotalWorkingYears']>40].index\n",
    "# train_data.loc[index,'TotalWorkingYears'] = 40\n",
    "train_data.iloc[index]"
   ]
  },
  {
   "cell_type": "code",
   "execution_count": 19,
   "id": "19e53c9b-c7ad-497a-819f-4a20a15faa25",
   "metadata": {},
   "outputs": [
    {
     "data": {
      "text/html": [
       "<div>\n",
       "<style scoped>\n",
       "    .dataframe tbody tr th:only-of-type {\n",
       "        vertical-align: middle;\n",
       "    }\n",
       "\n",
       "    .dataframe tbody tr th {\n",
       "        vertical-align: top;\n",
       "    }\n",
       "\n",
       "    .dataframe thead th {\n",
       "        text-align: right;\n",
       "    }\n",
       "</style>\n",
       "<table border=\"1\" class=\"dataframe\">\n",
       "  <thead>\n",
       "    <tr style=\"text-align: right;\">\n",
       "      <th></th>\n",
       "      <th>Age</th>\n",
       "      <th>BusinessTravel</th>\n",
       "      <th>DailyRate</th>\n",
       "      <th>Department</th>\n",
       "      <th>DistanceFromHome</th>\n",
       "      <th>Education</th>\n",
       "      <th>EnvironmentSatisfaction</th>\n",
       "      <th>Gender</th>\n",
       "      <th>HourlyRate</th>\n",
       "      <th>JobInvolvement</th>\n",
       "      <th>...</th>\n",
       "      <th>income_joblevel</th>\n",
       "      <th>progress</th>\n",
       "      <th>earn_sat</th>\n",
       "      <th>comfort</th>\n",
       "      <th>comfort_2</th>\n",
       "      <th>fairness_1</th>\n",
       "      <th>fairness_2</th>\n",
       "      <th>fairness_3</th>\n",
       "      <th>fairness</th>\n",
       "      <th>Attrition</th>\n",
       "    </tr>\n",
       "  </thead>\n",
       "  <tbody>\n",
       "    <tr>\n",
       "      <th>877</th>\n",
       "      <td>1.999999</td>\n",
       "      <td>2.0</td>\n",
       "      <td>682.0</td>\n",
       "      <td>Research &amp; Development</td>\n",
       "      <td>1.0</td>\n",
       "      <td>4.0</td>\n",
       "      <td>4.0</td>\n",
       "      <td>Male</td>\n",
       "      <td>57.0</td>\n",
       "      <td>4.0</td>\n",
       "      <td>...</td>\n",
       "      <td>0.000402</td>\n",
       "      <td>5.124998</td>\n",
       "      <td>-6414.489271</td>\n",
       "      <td>1.5</td>\n",
       "      <td>0.562499</td>\n",
       "      <td>4.888886</td>\n",
       "      <td>0.09756</td>\n",
       "      <td>3.0</td>\n",
       "      <td>5.324306</td>\n",
       "      <td>0</td>\n",
       "    </tr>\n",
       "  </tbody>\n",
       "</table>\n",
       "<p>1 rows × 38 columns</p>\n",
       "</div>"
      ],
      "text/plain": [
       "          Age  BusinessTravel  DailyRate              Department  \\\n",
       "877  1.999999             2.0      682.0  Research & Development   \n",
       "\n",
       "     DistanceFromHome  Education  EnvironmentSatisfaction Gender  HourlyRate  \\\n",
       "877               1.0        4.0                      4.0   Male        57.0   \n",
       "\n",
       "     JobInvolvement  ...  income_joblevel  progress     earn_sat  comfort  \\\n",
       "877             4.0  ...         0.000402  5.124998 -6414.489271      1.5   \n",
       "\n",
       "     comfort_2  fairness_1 fairness_2  fairness_3  fairness  Attrition  \n",
       "877   0.562499    4.888886    0.09756         3.0  5.324306          0  \n",
       "\n",
       "[1 rows x 38 columns]"
      ]
     },
     "execution_count": 19,
     "metadata": {},
     "output_type": "execute_result"
    }
   ],
   "source": [
    "index = train_data[train_data['YearsAtCompany']>40].index\n",
    "# train_data.loc[index,'YearsAtCompany'] = 40\n",
    "train_data.iloc[index]"
   ]
  },
  {
   "cell_type": "code",
   "execution_count": 20,
   "id": "11e720e4-2806-458d-9db2-356f324089e6",
   "metadata": {},
   "outputs": [
    {
     "data": {
      "text/html": [
       "<div>\n",
       "<style scoped>\n",
       "    .dataframe tbody tr th:only-of-type {\n",
       "        vertical-align: middle;\n",
       "    }\n",
       "\n",
       "    .dataframe tbody tr th {\n",
       "        vertical-align: top;\n",
       "    }\n",
       "\n",
       "    .dataframe thead th {\n",
       "        text-align: right;\n",
       "    }\n",
       "</style>\n",
       "<table border=\"1\" class=\"dataframe\">\n",
       "  <thead>\n",
       "    <tr style=\"text-align: right;\">\n",
       "      <th></th>\n",
       "      <th>Age</th>\n",
       "      <th>BusinessTravel</th>\n",
       "      <th>DailyRate</th>\n",
       "      <th>Department</th>\n",
       "      <th>DistanceFromHome</th>\n",
       "      <th>Education</th>\n",
       "      <th>EnvironmentSatisfaction</th>\n",
       "      <th>Gender</th>\n",
       "      <th>HourlyRate</th>\n",
       "      <th>JobInvolvement</th>\n",
       "      <th>...</th>\n",
       "      <th>income_joblevel</th>\n",
       "      <th>progress</th>\n",
       "      <th>earn_sat</th>\n",
       "      <th>comfort</th>\n",
       "      <th>comfort_2</th>\n",
       "      <th>fairness_1</th>\n",
       "      <th>fairness_2</th>\n",
       "      <th>fairness_3</th>\n",
       "      <th>fairness</th>\n",
       "      <th>Attrition</th>\n",
       "    </tr>\n",
       "  </thead>\n",
       "  <tbody>\n",
       "    <tr>\n",
       "      <th>527</th>\n",
       "      <td>1.999999</td>\n",
       "      <td>2.0</td>\n",
       "      <td>548.0</td>\n",
       "      <td>Research &amp; Development</td>\n",
       "      <td>1.0</td>\n",
       "      <td>15.0</td>\n",
       "      <td>1.0</td>\n",
       "      <td>Female</td>\n",
       "      <td>72.0</td>\n",
       "      <td>3.0</td>\n",
       "      <td>...</td>\n",
       "      <td>0.000377</td>\n",
       "      <td>2.499998</td>\n",
       "      <td>-2607.27778</td>\n",
       "      <td>5.999998</td>\n",
       "      <td>11.999982</td>\n",
       "      <td>12.999987</td>\n",
       "      <td>0.049999</td>\n",
       "      <td>5.6</td>\n",
       "      <td>12.433344</td>\n",
       "      <td>0</td>\n",
       "    </tr>\n",
       "  </tbody>\n",
       "</table>\n",
       "<p>1 rows × 38 columns</p>\n",
       "</div>"
      ],
      "text/plain": [
       "          Age  BusinessTravel  DailyRate              Department  \\\n",
       "527  1.999999             2.0      548.0  Research & Development   \n",
       "\n",
       "     DistanceFromHome  Education  EnvironmentSatisfaction  Gender  HourlyRate  \\\n",
       "527               1.0       15.0                      1.0  Female        72.0   \n",
       "\n",
       "     JobInvolvement  ...  income_joblevel  progress    earn_sat   comfort  \\\n",
       "527             3.0  ...         0.000377  2.499998 -2607.27778  5.999998   \n",
       "\n",
       "     comfort_2  fairness_1 fairness_2  fairness_3   fairness  Attrition  \n",
       "527  11.999982   12.999987   0.049999         5.6  12.433344          0  \n",
       "\n",
       "[1 rows x 38 columns]"
      ]
     },
     "execution_count": 20,
     "metadata": {},
     "output_type": "execute_result"
    }
   ],
   "source": [
    "index = train_data[train_data.Education == 15].index\n",
    "# train_data.loc[index,'Education'] = 5\n",
    "train_data.iloc[index]"
   ]
  },
  {
   "cell_type": "code",
   "execution_count": 21,
   "id": "c530bdb8-541b-4c6c-86e1-eee97add08af",
   "metadata": {},
   "outputs": [],
   "source": [
    "# index = train_data[train_data['JobLevel'] >5].index\n",
    "# train_data.drop(index,axis=0,inplace=True)\n",
    "\n",
    "# index = train_data[train_data['TotalWorkingYears']>40].index\n",
    "# train_data.drop(index,axis=0,inplace=True)\n",
    "\n",
    "# index = train_data[train_data['YearsAtCompany']>40].index\n",
    "# train_data.drop(index,axis=0,inplace=True)\n",
    "\n",
    "# index = train_data[train_data.Education == 15].index\n",
    "# train_data.drop(index,axis=0,inplace=True)"
   ]
  },
  {
   "cell_type": "code",
   "execution_count": null,
   "id": "9cab575d-9145-4c4d-8906-d2658b5123b5",
   "metadata": {},
   "outputs": [],
   "source": []
  },
  {
   "cell_type": "code",
   "execution_count": 22,
   "id": "4f24cc88-62fe-439e-ae0b-300c281f224e",
   "metadata": {},
   "outputs": [],
   "source": [
    "index = train_data[train_data['JobLevel'] >5].index\n",
    "train_data.loc[index,'JobLevel'] = 5\n",
    "\n",
    "index = train_data[train_data['TotalWorkingYears']>40].index\n",
    "train_data.loc[index,'TotalWorkingYears'] = 40\n",
    "\n",
    "index = train_data[train_data['YearsAtCompany']>40].index\n",
    "train_data.loc[index,'YearsAtCompany'] = 40\n",
    "\n",
    "index = train_data[train_data.Education == 15].index\n",
    "train_data.loc[index,'Education'] = 5\n",
    "\n"
   ]
  },
  {
   "cell_type": "code",
   "execution_count": null,
   "id": "f540cbd7-ac93-448c-bcdd-9b42e5f94c5d",
   "metadata": {},
   "outputs": [],
   "source": []
  },
  {
   "cell_type": "code",
   "execution_count": null,
   "id": "6f3485ac-b1dd-4479-aeec-4a157811f11a",
   "metadata": {},
   "outputs": [],
   "source": []
  },
  {
   "cell_type": "code",
   "execution_count": 23,
   "id": "e2b2bc19-648a-432c-8115-2cdc76396a5a",
   "metadata": {},
   "outputs": [],
   "source": [
    "# index = train_data[train_data.Education == 15].index\n",
    "# train_data.loc[index,'Education'] = 5"
   ]
  },
  {
   "cell_type": "code",
   "execution_count": 24,
   "id": "c322405a-01bd-4ee4-84a3-304665937d01",
   "metadata": {},
   "outputs": [],
   "source": [
    "# index = test_data[train_data.Education == 15].index\n",
    "# train_data.loc[index,'Education'] = 5\n"
   ]
  },
  {
   "cell_type": "code",
   "execution_count": 25,
   "id": "a369f175-f891-4950-977c-8eeb7503cfbc",
   "metadata": {},
   "outputs": [
    {
     "name": "stdout",
     "output_type": "stream",
     "text": [
      "(3147, 44) (1119, 43)\n",
      "{'Attrition'}\n"
     ]
    }
   ],
   "source": [
    "train_data = pd.get_dummies(train_data)\n",
    "test_data = pd.get_dummies(test_data)\n",
    "print(train_data.shape,test_data.shape)\n",
    "print(set(train_data.columns) - set(test_data.columns))\n",
    "smote = SMOTE(random_state=0)\n",
    "train_data,train_label = smote.fit_resample(train_data.drop('Attrition',axis=1),train_data['Attrition'])\n",
    "\n",
    "train_data['Attrition'] = train_label"
   ]
  },
  {
   "cell_type": "code",
   "execution_count": 26,
   "id": "b136d24b-8deb-4c69-b585-a691241d6d58",
   "metadata": {},
   "outputs": [],
   "source": [
    "strat_train_set, strat_test_set = train_test_split(\n",
    "    train_data, test_size=0.3, stratify=train_data[\"Attrition\"], random_state=42)\n",
    "\n",
    "train_features = strat_train_set.drop('Attrition',axis=1)\n",
    "train_label = strat_train_set.Attrition\n",
    "\n",
    "test_features = strat_test_set.drop('Attrition',axis=1)\n",
    "test_label = strat_test_set.Attrition"
   ]
  },
  {
   "cell_type": "code",
   "execution_count": 27,
   "id": "37a80155-fb62-441f-9941-de8da5b78355",
   "metadata": {},
   "outputs": [],
   "source": [
    "# strat_train_set, strat_test_set = train_test_split(\n",
    "#     train_data, test_size=0.3, stratify=train_data[\"PerformanceRating\"], random_state=42)\n",
    "\n",
    "# train_features = strat_train_set.drop('Attrition',axis=1)\n",
    "# train_label = strat_train_set.Attrition\n",
    "\n",
    "# test_features = strat_test_set.drop('Attrition',axis=1)\n",
    "# test_label = strat_test_set.Attrition"
   ]
  },
  {
   "cell_type": "code",
   "execution_count": 28,
   "id": "38c12d45-b7fd-411e-9318-397c7b7e1ac3",
   "metadata": {},
   "outputs": [],
   "source": [
    "# scaler = StandardScaler()\n",
    "# train_features = scaler.fit_transform(train_features)\n",
    "# test_features = scaler.transform(test_features)"
   ]
  },
  {
   "cell_type": "code",
   "execution_count": null,
   "id": "a1a378d2-8666-4c51-a7c4-2e7678f1b97c",
   "metadata": {},
   "outputs": [],
   "source": []
  },
  {
   "cell_type": "code",
   "execution_count": 29,
   "id": "49cb81dc-90bf-44a0-b15e-27b8fdb85fa7",
   "metadata": {},
   "outputs": [
    {
     "data": {
      "text/html": [
       "<style>#sk-container-id-1 {color: black;background-color: white;}#sk-container-id-1 pre{padding: 0;}#sk-container-id-1 div.sk-toggleable {background-color: white;}#sk-container-id-1 label.sk-toggleable__label {cursor: pointer;display: block;width: 100%;margin-bottom: 0;padding: 0.3em;box-sizing: border-box;text-align: center;}#sk-container-id-1 label.sk-toggleable__label-arrow:before {content: \"▸\";float: left;margin-right: 0.25em;color: #696969;}#sk-container-id-1 label.sk-toggleable__label-arrow:hover:before {color: black;}#sk-container-id-1 div.sk-estimator:hover label.sk-toggleable__label-arrow:before {color: black;}#sk-container-id-1 div.sk-toggleable__content {max-height: 0;max-width: 0;overflow: hidden;text-align: left;background-color: #f0f8ff;}#sk-container-id-1 div.sk-toggleable__content pre {margin: 0.2em;color: black;border-radius: 0.25em;background-color: #f0f8ff;}#sk-container-id-1 input.sk-toggleable__control:checked~div.sk-toggleable__content {max-height: 200px;max-width: 100%;overflow: auto;}#sk-container-id-1 input.sk-toggleable__control:checked~label.sk-toggleable__label-arrow:before {content: \"▾\";}#sk-container-id-1 div.sk-estimator input.sk-toggleable__control:checked~label.sk-toggleable__label {background-color: #d4ebff;}#sk-container-id-1 div.sk-label input.sk-toggleable__control:checked~label.sk-toggleable__label {background-color: #d4ebff;}#sk-container-id-1 input.sk-hidden--visually {border: 0;clip: rect(1px 1px 1px 1px);clip: rect(1px, 1px, 1px, 1px);height: 1px;margin: -1px;overflow: hidden;padding: 0;position: absolute;width: 1px;}#sk-container-id-1 div.sk-estimator {font-family: monospace;background-color: #f0f8ff;border: 1px dotted black;border-radius: 0.25em;box-sizing: border-box;margin-bottom: 0.5em;}#sk-container-id-1 div.sk-estimator:hover {background-color: #d4ebff;}#sk-container-id-1 div.sk-parallel-item::after {content: \"\";width: 100%;border-bottom: 1px solid gray;flex-grow: 1;}#sk-container-id-1 div.sk-label:hover label.sk-toggleable__label {background-color: #d4ebff;}#sk-container-id-1 div.sk-serial::before {content: \"\";position: absolute;border-left: 1px solid gray;box-sizing: border-box;top: 0;bottom: 0;left: 50%;z-index: 0;}#sk-container-id-1 div.sk-serial {display: flex;flex-direction: column;align-items: center;background-color: white;padding-right: 0.2em;padding-left: 0.2em;position: relative;}#sk-container-id-1 div.sk-item {position: relative;z-index: 1;}#sk-container-id-1 div.sk-parallel {display: flex;align-items: stretch;justify-content: center;background-color: white;position: relative;}#sk-container-id-1 div.sk-item::before, #sk-container-id-1 div.sk-parallel-item::before {content: \"\";position: absolute;border-left: 1px solid gray;box-sizing: border-box;top: 0;bottom: 0;left: 50%;z-index: -1;}#sk-container-id-1 div.sk-parallel-item {display: flex;flex-direction: column;z-index: 1;position: relative;background-color: white;}#sk-container-id-1 div.sk-parallel-item:first-child::after {align-self: flex-end;width: 50%;}#sk-container-id-1 div.sk-parallel-item:last-child::after {align-self: flex-start;width: 50%;}#sk-container-id-1 div.sk-parallel-item:only-child::after {width: 0;}#sk-container-id-1 div.sk-dashed-wrapped {border: 1px dashed gray;margin: 0 0.4em 0.5em 0.4em;box-sizing: border-box;padding-bottom: 0.4em;background-color: white;}#sk-container-id-1 div.sk-label label {font-family: monospace;font-weight: bold;display: inline-block;line-height: 1.2em;}#sk-container-id-1 div.sk-label-container {text-align: center;}#sk-container-id-1 div.sk-container {/* jupyter's `normalize.less` sets `[hidden] { display: none; }` but bootstrap.min.css set `[hidden] { display: none !important; }` so we also need the `!important` here to be able to override the default hidden behavior on the sphinx rendered scikit-learn.org. See: https://github.com/scikit-learn/scikit-learn/issues/21755 */display: inline-block !important;position: relative;}#sk-container-id-1 div.sk-text-repr-fallback {display: none;}</style><div id=\"sk-container-id-1\" class=\"sk-top-container\"><div class=\"sk-text-repr-fallback\"><pre>XGBClassifier(base_score=0.5, booster=&#x27;gbtree&#x27;, callbacks=None,\n",
       "              colsample_bylevel=1, colsample_bynode=1, colsample_bytree=1,\n",
       "              early_stopping_rounds=None, enable_categorical=False,\n",
       "              eval_metric=None, gamma=0, gpu_id=-1, grow_policy=&#x27;depthwise&#x27;,\n",
       "              importance_type=None, interaction_constraints=&#x27;&#x27;,\n",
       "              learning_rate=0.300000012, max_bin=256, max_cat_to_onehot=4,\n",
       "              max_delta_step=0, max_depth=6, max_leaves=0, min_child_weight=1,\n",
       "              missing=nan, monotone_constraints=&#x27;()&#x27;, n_estimators=100,\n",
       "              n_jobs=0, num_parallel_tree=1, predictor=&#x27;auto&#x27;, random_state=0,\n",
       "              reg_alpha=0, reg_lambda=1, ...)</pre><b>In a Jupyter environment, please rerun this cell to show the HTML representation or trust the notebook. <br />On GitHub, the HTML representation is unable to render, please try loading this page with nbviewer.org.</b></div><div class=\"sk-container\" hidden><div class=\"sk-item\"><div class=\"sk-estimator sk-toggleable\"><input class=\"sk-toggleable__control sk-hidden--visually\" id=\"sk-estimator-id-1\" type=\"checkbox\" checked><label for=\"sk-estimator-id-1\" class=\"sk-toggleable__label sk-toggleable__label-arrow\">XGBClassifier</label><div class=\"sk-toggleable__content\"><pre>XGBClassifier(base_score=0.5, booster=&#x27;gbtree&#x27;, callbacks=None,\n",
       "              colsample_bylevel=1, colsample_bynode=1, colsample_bytree=1,\n",
       "              early_stopping_rounds=None, enable_categorical=False,\n",
       "              eval_metric=None, gamma=0, gpu_id=-1, grow_policy=&#x27;depthwise&#x27;,\n",
       "              importance_type=None, interaction_constraints=&#x27;&#x27;,\n",
       "              learning_rate=0.300000012, max_bin=256, max_cat_to_onehot=4,\n",
       "              max_delta_step=0, max_depth=6, max_leaves=0, min_child_weight=1,\n",
       "              missing=nan, monotone_constraints=&#x27;()&#x27;, n_estimators=100,\n",
       "              n_jobs=0, num_parallel_tree=1, predictor=&#x27;auto&#x27;, random_state=0,\n",
       "              reg_alpha=0, reg_lambda=1, ...)</pre></div></div></div></div></div>"
      ],
      "text/plain": [
       "XGBClassifier(base_score=0.5, booster='gbtree', callbacks=None,\n",
       "              colsample_bylevel=1, colsample_bynode=1, colsample_bytree=1,\n",
       "              early_stopping_rounds=None, enable_categorical=False,\n",
       "              eval_metric=None, gamma=0, gpu_id=-1, grow_policy='depthwise',\n",
       "              importance_type=None, interaction_constraints='',\n",
       "              learning_rate=0.300000012, max_bin=256, max_cat_to_onehot=4,\n",
       "              max_delta_step=0, max_depth=6, max_leaves=0, min_child_weight=1,\n",
       "              missing=nan, monotone_constraints='()', n_estimators=100,\n",
       "              n_jobs=0, num_parallel_tree=1, predictor='auto', random_state=0,\n",
       "              reg_alpha=0, reg_lambda=1, ...)"
      ]
     },
     "execution_count": 29,
     "metadata": {},
     "output_type": "execute_result"
    }
   ],
   "source": [
    "# model = RidgeClassifier()\n",
    "# model  = LogisticRegressionCV()\n",
    "# model  = RidgeClassifierCV()\n",
    "model  = XGBClassifier()\n",
    "model.fit(train_features,train_label)"
   ]
  },
  {
   "cell_type": "code",
   "execution_count": 30,
   "id": "d80b5c7b-10ef-4ee2-a6c9-141db3722ff7",
   "metadata": {},
   "outputs": [
    {
     "name": "stderr",
     "output_type": "stream",
     "text": [
      "C:\\Users\\EMEKA ONWUEPE\\anaconda3\\envs\\homl3\\lib\\site-packages\\sklearn\\utils\\deprecation.py:87: FutureWarning: Function plot_confusion_matrix is deprecated; Function `plot_confusion_matrix` is deprecated in 1.0 and will be removed in 1.2. Use one of the class methods: ConfusionMatrixDisplay.from_predictions or ConfusionMatrixDisplay.from_estimator.\n",
      "  warnings.warn(msg, category=FutureWarning)\n"
     ]
    },
    {
     "data": {
      "text/plain": [
       "<sklearn.metrics._plot.confusion_matrix.ConfusionMatrixDisplay at 0x18f439e9bd0>"
      ]
     },
     "execution_count": 30,
     "metadata": {},
     "output_type": "execute_result"
    },
    {
     "data": {
      "image/png": "[encoded data removed]",
      "text/plain": [
       "<Figure size 640x480 with 2 Axes>"
      ]
     },
     "metadata": {},
     "output_type": "display_data"
    }
   ],
   "source": [
    "plot_confusion_matrix(model,test_features,test_label)\n",
    "# 787 26\n",
    "# 61 752"
   ]
  },
  {
   "cell_type": "code",
   "execution_count": 31,
   "id": "114d6ae9-7821-4144-aa81-8febcfc3b7f7",
   "metadata": {},
   "outputs": [
    {
     "data": {
      "text/plain": [
       "0.9836255558127537"
      ]
     },
     "execution_count": 31,
     "metadata": {},
     "output_type": "execute_result"
    }
   ],
   "source": [
    "roc_auc_score(test_label, model.predict_proba(test_features)[:, 1])\n",
    "# 0.9787167070217918\n",
    "\n",
    "# 9853094471904129\n",
    "\n",
    "# 0.9848434646708091"
   ]
  },
  {
   "cell_type": "code",
   "execution_count": 32,
   "id": "1430cff3-ee2b-4bed-a382-118de399ed1d",
   "metadata": {},
   "outputs": [],
   "source": [
    "# roc_auc_score(test_label, model.decision_function(test_features))"
   ]
  },
  {
   "cell_type": "code",
   "execution_count": 33,
   "id": "95ddab39-9018-4fee-afaa-6df041e50b93",
   "metadata": {},
   "outputs": [
    {
     "name": "stdout",
     "output_type": "stream",
     "text": [
      "(5420, 44) (1119, 43)\n"
     ]
    }
   ],
   "source": [
    "ids = test_data.index \n",
    "print(train_data.shape,test_data.shape)"
   ]
  },
  {
   "cell_type": "code",
   "execution_count": 34,
   "id": "00e9207d-193d-483e-9f22-4779a22fb263",
   "metadata": {},
   "outputs": [],
   "source": [
    "\n",
    "\n",
    "# train_data_ = scaler.fit_transform(train_data.drop('Attrition',axis=1))\n",
    "# test_data = scaler.transform(test_data)\n",
    "\n",
    "# model.fit(train_data_,train_data['Attrition'])"
   ]
  },
  {
   "cell_type": "code",
   "execution_count": 35,
   "id": "991fc830-8cb9-4d19-8b60-c977616964de",
   "metadata": {},
   "outputs": [
    {
     "data": {
      "text/html": [
       "<style>#sk-container-id-2 {color: black;background-color: white;}#sk-container-id-2 pre{padding: 0;}#sk-container-id-2 div.sk-toggleable {background-color: white;}#sk-container-id-2 label.sk-toggleable__label {cursor: pointer;display: block;width: 100%;margin-bottom: 0;padding: 0.3em;box-sizing: border-box;text-align: center;}#sk-container-id-2 label.sk-toggleable__label-arrow:before {content: \"▸\";float: left;margin-right: 0.25em;color: #696969;}#sk-container-id-2 label.sk-toggleable__label-arrow:hover:before {color: black;}#sk-container-id-2 div.sk-estimator:hover label.sk-toggleable__label-arrow:before {color: black;}#sk-container-id-2 div.sk-toggleable__content {max-height: 0;max-width: 0;overflow: hidden;text-align: left;background-color: #f0f8ff;}#sk-container-id-2 div.sk-toggleable__content pre {margin: 0.2em;color: black;border-radius: 0.25em;background-color: #f0f8ff;}#sk-container-id-2 input.sk-toggleable__control:checked~div.sk-toggleable__content {max-height: 200px;max-width: 100%;overflow: auto;}#sk-container-id-2 input.sk-toggleable__control:checked~label.sk-toggleable__label-arrow:before {content: \"▾\";}#sk-container-id-2 div.sk-estimator input.sk-toggleable__control:checked~label.sk-toggleable__label {background-color: #d4ebff;}#sk-container-id-2 div.sk-label input.sk-toggleable__control:checked~label.sk-toggleable__label {background-color: #d4ebff;}#sk-container-id-2 input.sk-hidden--visually {border: 0;clip: rect(1px 1px 1px 1px);clip: rect(1px, 1px, 1px, 1px);height: 1px;margin: -1px;overflow: hidden;padding: 0;position: absolute;width: 1px;}#sk-container-id-2 div.sk-estimator {font-family: monospace;background-color: #f0f8ff;border: 1px dotted black;border-radius: 0.25em;box-sizing: border-box;margin-bottom: 0.5em;}#sk-container-id-2 div.sk-estimator:hover {background-color: #d4ebff;}#sk-container-id-2 div.sk-parallel-item::after {content: \"\";width: 100%;border-bottom: 1px solid gray;flex-grow: 1;}#sk-container-id-2 div.sk-label:hover label.sk-toggleable__label {background-color: #d4ebff;}#sk-container-id-2 div.sk-serial::before {content: \"\";position: absolute;border-left: 1px solid gray;box-sizing: border-box;top: 0;bottom: 0;left: 50%;z-index: 0;}#sk-container-id-2 div.sk-serial {display: flex;flex-direction: column;align-items: center;background-color: white;padding-right: 0.2em;padding-left: 0.2em;position: relative;}#sk-container-id-2 div.sk-item {position: relative;z-index: 1;}#sk-container-id-2 div.sk-parallel {display: flex;align-items: stretch;justify-content: center;background-color: white;position: relative;}#sk-container-id-2 div.sk-item::before, #sk-container-id-2 div.sk-parallel-item::before {content: \"\";position: absolute;border-left: 1px solid gray;box-sizing: border-box;top: 0;bottom: 0;left: 50%;z-index: -1;}#sk-container-id-2 div.sk-parallel-item {display: flex;flex-direction: column;z-index: 1;position: relative;background-color: white;}#sk-container-id-2 div.sk-parallel-item:first-child::after {align-self: flex-end;width: 50%;}#sk-container-id-2 div.sk-parallel-item:last-child::after {align-self: flex-start;width: 50%;}#sk-container-id-2 div.sk-parallel-item:only-child::after {width: 0;}#sk-container-id-2 div.sk-dashed-wrapped {border: 1px dashed gray;margin: 0 0.4em 0.5em 0.4em;box-sizing: border-box;padding-bottom: 0.4em;background-color: white;}#sk-container-id-2 div.sk-label label {font-family: monospace;font-weight: bold;display: inline-block;line-height: 1.2em;}#sk-container-id-2 div.sk-label-container {text-align: center;}#sk-container-id-2 div.sk-container {/* jupyter's `normalize.less` sets `[hidden] { display: none; }` but bootstrap.min.css set `[hidden] { display: none !important; }` so we also need the `!important` here to be able to override the default hidden behavior on the sphinx rendered scikit-learn.org. See: https://github.com/scikit-learn/scikit-learn/issues/21755 */display: inline-block !important;position: relative;}#sk-container-id-2 div.sk-text-repr-fallback {display: none;}</style><div id=\"sk-container-id-2\" class=\"sk-top-container\"><div class=\"sk-text-repr-fallback\"><pre>XGBClassifier(base_score=0.5, booster=&#x27;gbtree&#x27;, callbacks=None,\n",
       "              colsample_bylevel=1, colsample_bynode=1, colsample_bytree=1,\n",
       "              early_stopping_rounds=None, enable_categorical=False,\n",
       "              eval_metric=None, gamma=0, gpu_id=-1, grow_policy=&#x27;depthwise&#x27;,\n",
       "              importance_type=None, interaction_constraints=&#x27;&#x27;,\n",
       "              learning_rate=0.300000012, max_bin=256, max_cat_to_onehot=4,\n",
       "              max_delta_step=0, max_depth=6, max_leaves=0, min_child_weight=1,\n",
       "              missing=nan, monotone_constraints=&#x27;()&#x27;, n_estimators=100,\n",
       "              n_jobs=0, num_parallel_tree=1, predictor=&#x27;auto&#x27;, random_state=0,\n",
       "              reg_alpha=0, reg_lambda=1, ...)</pre><b>In a Jupyter environment, please rerun this cell to show the HTML representation or trust the notebook. <br />On GitHub, the HTML representation is unable to render, please try loading this page with nbviewer.org.</b></div><div class=\"sk-container\" hidden><div class=\"sk-item\"><div class=\"sk-estimator sk-toggleable\"><input class=\"sk-toggleable__control sk-hidden--visually\" id=\"sk-estimator-id-2\" type=\"checkbox\" checked><label for=\"sk-estimator-id-2\" class=\"sk-toggleable__label sk-toggleable__label-arrow\">XGBClassifier</label><div class=\"sk-toggleable__content\"><pre>XGBClassifier(base_score=0.5, booster=&#x27;gbtree&#x27;, callbacks=None,\n",
       "              colsample_bylevel=1, colsample_bynode=1, colsample_bytree=1,\n",
       "              early_stopping_rounds=None, enable_categorical=False,\n",
       "              eval_metric=None, gamma=0, gpu_id=-1, grow_policy=&#x27;depthwise&#x27;,\n",
       "              importance_type=None, interaction_constraints=&#x27;&#x27;,\n",
       "              learning_rate=0.300000012, max_bin=256, max_cat_to_onehot=4,\n",
       "              max_delta_step=0, max_depth=6, max_leaves=0, min_child_weight=1,\n",
       "              missing=nan, monotone_constraints=&#x27;()&#x27;, n_estimators=100,\n",
       "              n_jobs=0, num_parallel_tree=1, predictor=&#x27;auto&#x27;, random_state=0,\n",
       "              reg_alpha=0, reg_lambda=1, ...)</pre></div></div></div></div></div>"
      ],
      "text/plain": [
       "XGBClassifier(base_score=0.5, booster='gbtree', callbacks=None,\n",
       "              colsample_bylevel=1, colsample_bynode=1, colsample_bytree=1,\n",
       "              early_stopping_rounds=None, enable_categorical=False,\n",
       "              eval_metric=None, gamma=0, gpu_id=-1, grow_policy='depthwise',\n",
       "              importance_type=None, interaction_constraints='',\n",
       "              learning_rate=0.300000012, max_bin=256, max_cat_to_onehot=4,\n",
       "              max_delta_step=0, max_depth=6, max_leaves=0, min_child_weight=1,\n",
       "              missing=nan, monotone_constraints='()', n_estimators=100,\n",
       "              n_jobs=0, num_parallel_tree=1, predictor='auto', random_state=0,\n",
       "              reg_alpha=0, reg_lambda=1, ...)"
      ]
     },
     "execution_count": 35,
     "metadata": {},
     "output_type": "execute_result"
    }
   ],
   "source": [
    "model.fit(train_data.drop('Attrition',axis=1),train_data['Attrition'])"
   ]
  },
  {
   "cell_type": "code",
   "execution_count": null,
   "id": "f2ea594c-b078-452e-9f2a-fc3ac40d722b",
   "metadata": {},
   "outputs": [],
   "source": []
  },
  {
   "cell_type": "code",
   "execution_count": 36,
   "id": "7f5473f5-0708-4d83-807d-646f5b3b75f2",
   "metadata": {},
   "outputs": [],
   "source": [
    "predict_prob =  model.predict_proba(test_data)[:, 1]"
   ]
  },
  {
   "cell_type": "code",
   "execution_count": 37,
   "id": "c2c9fb29-0462-482b-94c0-2ad1216e5217",
   "metadata": {},
   "outputs": [
    {
     "data": {
      "text/plain": [
       "array([0.09187178, 0.00604574, 0.01728456, ..., 0.01398376, 0.00515912,\n",
       "       0.00045806], dtype=float32)"
      ]
     },
     "execution_count": 37,
     "metadata": {},
     "output_type": "execute_result"
    }
   ],
   "source": [
    "predict_prob"
   ]
  },
  {
   "cell_type": "code",
   "execution_count": 38,
   "id": "5277f1f9-72b2-4b4b-8b32-3ca433c16d0f",
   "metadata": {},
   "outputs": [],
   "source": [
    "prediction = model.predict(test_data)"
   ]
  },
  {
   "cell_type": "code",
   "execution_count": 39,
   "id": "2fa12bc8-75eb-4f0f-8849-bdd4f44db274",
   "metadata": {},
   "outputs": [
    {
     "data": {
      "text/plain": [
       "100"
      ]
     },
     "execution_count": 39,
     "metadata": {},
     "output_type": "execute_result"
    }
   ],
   "source": [
    "prediction.sum()\n",
    "\n",
    "# 103\n",
    "# 110\n",
    "# 100"
   ]
  },
  {
   "cell_type": "code",
   "execution_count": 40,
   "id": "f5eb4859-61bc-4f84-901c-2379524f7ab4",
   "metadata": {},
   "outputs": [
    {
     "data": {
      "text/plain": [
       "(1119,)"
      ]
     },
     "execution_count": 40,
     "metadata": {},
     "output_type": "execute_result"
    }
   ],
   "source": [
    "prediction.shape"
   ]
  },
  {
   "cell_type": "code",
   "execution_count": 41,
   "id": "2e00d0e5-eacb-4c91-b519-5e1f7d2d9f82",
   "metadata": {},
   "outputs": [
    {
     "data": {
      "text/plain": [
       "1019"
      ]
     },
     "execution_count": 41,
     "metadata": {},
     "output_type": "execute_result"
    }
   ],
   "source": [
    "prediction.size - prediction.sum()"
   ]
  },
  {
   "cell_type": "code",
   "execution_count": null,
   "id": "cad75ca6-6f39-4b5d-8bab-9ec5de827a50",
   "metadata": {},
   "outputs": [],
   "source": []
  },
  {
   "cell_type": "code",
   "execution_count": 42,
   "id": "44239d50-68bc-4666-8759-94dce61f81a3",
   "metadata": {},
   "outputs": [],
   "source": [
    "data = {\"id\":ids,'Attrition':predict_prob}\n",
    "\n",
    "submission = pd.DataFrame(data)"
   ]
  },
  {
   "cell_type": "code",
   "execution_count": 43,
   "id": "b576ca67-16f5-4d6b-96f8-f9d0faecf834",
   "metadata": {},
   "outputs": [
    {
     "data": {
      "text/html": [
       "<div>\n",
       "<style scoped>\n",
       "    .dataframe tbody tr th:only-of-type {\n",
       "        vertical-align: middle;\n",
       "    }\n",
       "\n",
       "    .dataframe tbody tr th {\n",
       "        vertical-align: top;\n",
       "    }\n",
       "\n",
       "    .dataframe thead th {\n",
       "        text-align: right;\n",
       "    }\n",
       "</style>\n",
       "<table border=\"1\" class=\"dataframe\">\n",
       "  <thead>\n",
       "    <tr style=\"text-align: right;\">\n",
       "      <th></th>\n",
       "      <th>id</th>\n",
       "      <th>Attrition</th>\n",
       "    </tr>\n",
       "  </thead>\n",
       "  <tbody>\n",
       "    <tr>\n",
       "      <th>0</th>\n",
       "      <td>1677</td>\n",
       "      <td>0.091872</td>\n",
       "    </tr>\n",
       "    <tr>\n",
       "      <th>1</th>\n",
       "      <td>1678</td>\n",
       "      <td>0.006046</td>\n",
       "    </tr>\n",
       "    <tr>\n",
       "      <th>2</th>\n",
       "      <td>1679</td>\n",
       "      <td>0.017285</td>\n",
       "    </tr>\n",
       "    <tr>\n",
       "      <th>3</th>\n",
       "      <td>1680</td>\n",
       "      <td>0.007265</td>\n",
       "    </tr>\n",
       "    <tr>\n",
       "      <th>4</th>\n",
       "      <td>1681</td>\n",
       "      <td>0.059561</td>\n",
       "    </tr>\n",
       "    <tr>\n",
       "      <th>...</th>\n",
       "      <td>...</td>\n",
       "      <td>...</td>\n",
       "    </tr>\n",
       "    <tr>\n",
       "      <th>1114</th>\n",
       "      <td>2791</td>\n",
       "      <td>0.050423</td>\n",
       "    </tr>\n",
       "    <tr>\n",
       "      <th>1115</th>\n",
       "      <td>2792</td>\n",
       "      <td>0.001552</td>\n",
       "    </tr>\n",
       "    <tr>\n",
       "      <th>1116</th>\n",
       "      <td>2793</td>\n",
       "      <td>0.013984</td>\n",
       "    </tr>\n",
       "    <tr>\n",
       "      <th>1117</th>\n",
       "      <td>2794</td>\n",
       "      <td>0.005159</td>\n",
       "    </tr>\n",
       "    <tr>\n",
       "      <th>1118</th>\n",
       "      <td>2795</td>\n",
       "      <td>0.000458</td>\n",
       "    </tr>\n",
       "  </tbody>\n",
       "</table>\n",
       "<p>1119 rows × 2 columns</p>\n",
       "</div>"
      ],
      "text/plain": [
       "        id  Attrition\n",
       "0     1677   0.091872\n",
       "1     1678   0.006046\n",
       "2     1679   0.017285\n",
       "3     1680   0.007265\n",
       "4     1681   0.059561\n",
       "...    ...        ...\n",
       "1114  2791   0.050423\n",
       "1115  2792   0.001552\n",
       "1116  2793   0.013984\n",
       "1117  2794   0.005159\n",
       "1118  2795   0.000458\n",
       "\n",
       "[1119 rows x 2 columns]"
      ]
     },
     "execution_count": 43,
     "metadata": {},
     "output_type": "execute_result"
    }
   ],
   "source": [
    "submission"
   ]
  },
  {
   "cell_type": "code",
   "execution_count": 44,
   "id": "894ab43a-5ea5-49f2-bfc3-8d9ae633006d",
   "metadata": {},
   "outputs": [],
   "source": [
    "submission.to_csv('submission.csv',index=False)"
   ]
  },
  {
   "cell_type": "code",
   "execution_count": null,
   "id": "e453b686-be4c-49ed-adea-870ddfc315ea",
   "metadata": {},
   "outputs": [],
   "source": []
  }
 ],
 "metadata": {
  "kernelspec": {
   "display_name": "Python 3 (ipykernel)",
   "language": "python",
   "name": "python3"
  },
  "language_info": {
   "codemirror_mode": {
    "name": "ipython",
    "version": 3
   },
   "file_extension": ".py",
   "mimetype": "text/x-python",
   "name": "python",
   "nbconvert_exporter": "python",
   "pygments_lexer": "ipython3",
   "version": "3.11.3"
  }
 },
 "nbformat": 4,
 "nbformat_minor": 5
}
